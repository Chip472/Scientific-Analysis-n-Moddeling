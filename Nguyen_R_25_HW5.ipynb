{
  "metadata": {
    "kernelspec": {
      "name": "python",
      "display_name": "Python (Pyodide)",
      "language": "python"
    },
    "language_info": {
      "codemirror_mode": {
        "name": "python",
        "version": 3
      },
      "file_extension": ".py",
      "mimetype": "text/x-python",
      "name": "python",
      "nbconvert_exporter": "python",
      "pygments_lexer": "ipython3",
      "version": "3.8"
    }
  },
  "nbformat_minor": 4,
  "nbformat": 4,
  "cells": [
    {
      "cell_type": "markdown",
      "source": "# Week 6 (Wed) - Functions & HW 5",
      "metadata": {}
    },
    {
      "cell_type": "markdown",
      "source": "## Syntax",
      "metadata": {}
    },
    {
      "cell_type": "markdown",
      "source": "You now know how to run Python code, assign variables, and write control flow statements, which allows us to write programs that can do calculations. In fact, this is all you *really* need to write programs (except for being able to read in and write out data which we will talk about later). However, with only this, programs will quickly become very long and unreadable. So one very important rule in programming is to **avoid repetition**.",
      "metadata": {
        "slideshow": {
          "slide_type": "skip"
        }
      }
    },
    {
      "cell_type": "markdown",
      "source": "The syntax for a **function** is:\n    \n    def function_name(arguments):\n        # code here\n        return values",
      "metadata": {
        "slideshow": {
          "slide_type": "slide"
        }
      }
    },
    {
      "cell_type": "markdown",
      "source": "Functions are the **building blocks** of programs - think of them as basic units that are given a certain input an accomplish a certain task. Over time, you can build up more complex programs while preserving readability.",
      "metadata": {
        "slideshow": {
          "slide_type": "slide"
        }
      }
    },
    {
      "cell_type": "markdown",
      "source": "Similarly to ``if`` statements and ``for`` and ``while`` loops, indentation is very important because it shows where the function starts and ends.\n\n**Note**: it is a common convention to always use **lowercase names** for functions.",
      "metadata": {
        "slideshow": {
          "slide_type": "slide"
        }
      }
    },
    {
      "cell_type": "markdown",
      "source": "A function can take multiple arguments...",
      "metadata": {
        "slideshow": {
          "slide_type": "slide"
        }
      }
    },
    {
      "cell_type": "code",
      "source": "def add(a, b):\n    return a + b\n\nprint(add(1,1))",
      "metadata": {},
      "outputs": [],
      "execution_count": null
    },
    {
      "cell_type": "code",
      "source": "print(add(1,3))",
      "metadata": {},
      "outputs": [],
      "execution_count": null
    },
    {
      "cell_type": "code",
      "source": "print(add(1.,3.2))",
      "metadata": {},
      "outputs": [],
      "execution_count": null
    },
    {
      "cell_type": "code",
      "source": "print(add(4,3.))",
      "metadata": {},
      "outputs": [],
      "execution_count": null
    },
    {
      "cell_type": "markdown",
      "source": "... and can also return multiple values:",
      "metadata": {
        "slideshow": {
          "slide_type": "slide"
        }
      }
    },
    {
      "cell_type": "code",
      "source": "def double_and_halve(value):\n    double_value = value * 2\n    half_value = value / 2\n    return double_value, half_value\n\nprint(double_and_halve(5.))",
      "metadata": {},
      "outputs": [],
      "execution_count": null
    },
    {
      "cell_type": "code",
      "source": "def double_and_halve(value):\n    return value * 2., value / 2.\n\nprint(double_and_halve(5.))",
      "metadata": {},
      "outputs": [],
      "execution_count": null
    },
    {
      "cell_type": "markdown",
      "source": "If multiple values are returned, you can store them in separate variables.",
      "metadata": {
        "slideshow": {
          "slide_type": "slide"
        }
      }
    },
    {
      "cell_type": "code",
      "source": "d, h = double_and_halve(5.)",
      "metadata": {},
      "outputs": [],
      "execution_count": null
    },
    {
      "cell_type": "code",
      "source": "print(d)",
      "metadata": {},
      "outputs": [],
      "execution_count": null
    },
    {
      "cell_type": "code",
      "source": "print(h)",
      "metadata": {},
      "outputs": [],
      "execution_count": null
    },
    {
      "cell_type": "markdown",
      "source": "Functions can call other functions:",
      "metadata": {
        "slideshow": {
          "slide_type": "slide"
        }
      }
    },
    {
      "cell_type": "code",
      "source": "def do_a():\n    print(\"doing A\")\n    \ndef do_b():\n    print(\"doing B\")\n    \ndef do_a_and_b():\n    do_a()\n    do_b()",
      "metadata": {},
      "outputs": [],
      "execution_count": null
    },
    {
      "cell_type": "code",
      "source": "do_a()",
      "metadata": {},
      "outputs": [],
      "execution_count": null
    },
    {
      "cell_type": "code",
      "source": "do_b()",
      "metadata": {},
      "outputs": [],
      "execution_count": null
    },
    {
      "cell_type": "code",
      "source": "do_a_and_b()",
      "metadata": {
        "slideshow": {
          "slide_type": "slide"
        }
      },
      "outputs": [],
      "execution_count": null
    },
    {
      "cell_type": "markdown",
      "source": "**Just because you can put code in functions doesn't mean you always should**. Only use functions to avoid repeating code, or if it makes the program clearer. It's best to try and break up the code into units that make sense - in the end, your function should ideally have a name that everyone can understand.",
      "metadata": {
        "slideshow": {
          "slide_type": "slide"
        }
      }
    },
    {
      "cell_type": "markdown",
      "source": "## Exercise 1",
      "metadata": {}
    },
    {
      "cell_type": "markdown",
      "source": "Copy your code that finds prime numbers here and modify it so as to make it a function that given a number will **return** ``True`` or ``False`` depending on whether it is prime.",
      "metadata": {}
    },
    {
      "cell_type": "code",
      "source": "def is_prime(number):\n    # enter your solution here\n    for i in range(2, int(number**0.5) + 1):\n        if number % i == 0:\n            return False\n    return True\n\nfor j in range(2,21):\n    if is_prime(j):\n        print(is_prime(j), \"  \", j, \" is a prime number!!!!\")\n    else:\n        print(is_prime(j), \"  \", j, \" is not a prime\")",
      "metadata": {
        "trusted": true
      },
      "outputs": [
        {
          "name": "stdout",
          "output_type": "stream",
          "text": "True    2  is a prime number!!!!\nTrue    3  is a prime number!!!!\nFalse    4  is not a prime\nTrue    5  is a prime number!!!!\nFalse    6  is not a prime\nTrue    7  is a prime number!!!!\nFalse    8  is not a prime\nFalse    9  is not a prime\nFalse    10  is not a prime\nTrue    11  is a prime number!!!!\nFalse    12  is not a prime\nTrue    13  is a prime number!!!!\nFalse    14  is not a prime\nFalse    15  is not a prime\nFalse    16  is not a prime\nTrue    17  is a prime number!!!!\nFalse    18  is not a prime\nTrue    19  is a prime number!!!!\nFalse    20  is not a prime\n"
        }
      ],
      "execution_count": 12
    },
    {
      "cell_type": "markdown",
      "source": "## Optional Arguments",
      "metadata": {}
    },
    {
      "cell_type": "markdown",
      "source": "In addition to normal arguments, functions can take **optional** arguments that can default to a certain value. For example, in the following case:",
      "metadata": {}
    },
    {
      "cell_type": "code",
      "source": "def say_hello(first_name, middle_name='', last_name=''):\n    print(\"Hello, my name is \" + first_name)\n    if middle_name != '':\n        print(\"my middle name is \" + middle_name)\n    if last_name != '':\n        print(\"and my last name is \" + last_name)",
      "metadata": {},
      "outputs": [],
      "execution_count": null
    },
    {
      "cell_type": "markdown",
      "source": "we can call the function either with one argument:",
      "metadata": {}
    },
    {
      "cell_type": "code",
      "source": "say_hello(\"Annie\")",
      "metadata": {},
      "outputs": [],
      "execution_count": null
    },
    {
      "cell_type": "markdown",
      "source": "and we can also give one or both optional arguments (and the optional arguments can be given in any order):",
      "metadata": {}
    },
    {
      "cell_type": "code",
      "source": "say_hello(\"Annie\", last_name=\"Cannon\")",
      "metadata": {},
      "outputs": [],
      "execution_count": null
    },
    {
      "cell_type": "code",
      "source": "say_hello(\"Annie\", middle_name=\"Jump\", last_name=\"Cannon\")",
      "metadata": {},
      "outputs": [],
      "execution_count": null
    },
    {
      "cell_type": "code",
      "source": "say_hello(\"Annie\", middle_name=\"Jump\")",
      "metadata": {},
      "outputs": [],
      "execution_count": null
    },
    {
      "cell_type": "code",
      "source": "say_hello(\"Annie\", last_name=\"Cannon\", middle_name=\"Jump\")",
      "metadata": {},
      "outputs": [],
      "execution_count": null
    },
    {
      "cell_type": "markdown",
      "source": "## Built-in functions",
      "metadata": {}
    },
    {
      "cell_type": "markdown",
      "source": "Some of you may have already noticed that there are a few functions that are defined by default in Python:",
      "metadata": {
        "slideshow": {
          "slide_type": "slide"
        }
      }
    },
    {
      "cell_type": "code",
      "source": "x = [1,3,6,8,3]",
      "metadata": {},
      "outputs": [],
      "execution_count": null
    },
    {
      "cell_type": "code",
      "source": "len(x)",
      "metadata": {},
      "outputs": [],
      "execution_count": null
    },
    {
      "cell_type": "code",
      "source": "sum(x)",
      "metadata": {
        "slideshow": {
          "slide_type": "slide"
        }
      },
      "outputs": [],
      "execution_count": null
    },
    {
      "cell_type": "code",
      "source": "int(1.2)",
      "metadata": {},
      "outputs": [],
      "execution_count": null
    },
    {
      "cell_type": "markdown",
      "source": "A full list of built-in functions is available [here](http://docs.python.org/3/library/functions.html). Note that there are not *that* many - these are only the most common functions. Most functions are in fact kept inside **modules**, which we will cover later.",
      "metadata": {
        "slideshow": {
          "slide_type": "slide"
        }
      }
    },
    {
      "cell_type": "markdown",
      "source": "## Exercise 2",
      "metadata": {}
    },
    {
      "cell_type": "markdown",
      "source": "Try and write a function that will return the factorial of a number (e.g. ``5!=5*4*3*2*1``). First you can try and write a function that uses a loop internally.",
      "metadata": {}
    },
    {
      "cell_type": "code",
      "source": "def factorial(num):\n    #write code here\n    i = num\n    while (i > 1):\n        i = i - 1\n        num = num * i\n    return num\n\nfactorial(7)",
      "metadata": {
        "trusted": true
      },
      "outputs": [
        {
          "execution_count": 8,
          "output_type": "execute_result",
          "data": {
            "text/plain": "5040"
          },
          "metadata": {}
        }
      ],
      "execution_count": 8
    },
    {
      "cell_type": "markdown",
      "source": "## Exercise 2a",
      "metadata": {}
    },
    {
      "cell_type": "markdown",
      "source": "It is possible for functions to call themselves (**recursive** functions), so see if you can write a function that uses **no** loops!",
      "metadata": {}
    },
    {
      "cell_type": "code",
      "source": "def factorial_recur(num):\n# enter your solution here\n    if (num == 1):\n        return 1\n    else:\n        return num * factorial_recur(num - 1)\n\nfactorial_recur(7)",
      "metadata": {
        "trusted": true
      },
      "outputs": [
        {
          "execution_count": 18,
          "output_type": "execute_result",
          "data": {
            "text/plain": "5040"
          },
          "metadata": {}
        }
      ],
      "execution_count": 18
    },
    {
      "cell_type": "markdown",
      "source": "## Exercise 3",
      "metadata": {}
    },
    {
      "cell_type": "markdown",
      "source": "Write a function that takes a list, and returns the mean (average) and median of the values. Test it with the following list:",
      "metadata": {}
    },
    {
      "cell_type": "code",
      "source": "l = [1, 3, 3, 4, 5, 17]\n\ndef mean_median(list_inp):\n    # enter your solution here\n    total = sum(list_inp)\n    mean = total / len(list_inp)\n\n    s_list = sorted(list_inp)\n    \n    if (len(s_list) % 2 == 0):\n        median = (s_list[int(len(s_list) / 2) - 1] + s_list[int(len(s_list) / 2)] )/2\n    else:\n        median = s_list[int(len(s_list) / 2)] \n        \n    return mean, median\n\nprint(mean_median(l))",
      "metadata": {
        "trusted": true
      },
      "outputs": [
        {
          "name": "stdout",
          "output_type": "stream",
          "text": "(5.5, 3.5)\n"
        }
      ],
      "execution_count": 31
    },
    {
      "cell_type": "markdown",
      "source": "# Homework 5 - Due Friday Sept 26, 5pm",
      "metadata": {}
    },
    {
      "cell_type": "code",
      "source": "",
      "metadata": {},
      "outputs": [],
      "execution_count": null
    },
    {
      "cell_type": "markdown",
      "source": "*The semi-empirical mass formula*\n\nIn nuclear physics, the semi-empirical mass formula is a formula for calculating the\napproximate nuclear binding energy $B$ of an atomic nucleus with atomic number $Z$\nand mass number $A$. The formula looks like this:\n    \n$$ B = a_1 A - a_2 A^{2/3} - a_3 \\frac{Z^2}{A^{1/3}} - a_4 \\frac{(A - 2Z)^2}{A} - \\frac{a_5}{A^{1/2}} $$\n\nwhere, in units of millions of electron volts (MeV), the constants are $a_1 =\n15.67$, $a_2 = 17.23$, $a_3 = 0.75$, $a_4 = 93.2$, and\n\n$$ a_5  \\; =  \\;\\; \\left\\{ \\begin{array} {r@{\\quad\\tt if \\quad}l} 0 & A \\;{\\tt is\n      \\; odd}, \\\\\n    12.0 & A \\;{\\tt and}\\; Z \\;{\\tt are \\;both \\;even}, \\\\ -12.0 & A \\;{\\tt is\n     \\;  even \\; and}\\;  Z \\;{\\tt is\n  \\;  odd.} \\end{array} \\right. $$\n\nWrite a function that takes as its input the values of $A$ and $Z$, and\nprints out: \n* (a) the binding energy $B$ for the corresponding atom and \n* (b) the binding energy per nucleon, which is $B/A$. \n\nUse your program to find\nthe binding energy of an atom with $A = 58$ and $Z = 28$. (Hint: The\ncorrect answer is around 490 MeV.) \n\nAlso run,  $A = 59$ and $Z = 28$ and $A = 58$ and $Z = 27$.",
      "metadata": {}
    },
    {
      "cell_type": "code",
      "source": "def se_mass(A,Z):\n    if (A % 2 == 1):\n        a5 = 0\n    elif (Z % 2 == 0):\n        a5 = 12.0\n    else:\n        a5 = -12.0\n\n    B = 15.67*A - 17.23*(A**(2/3)) - 0.75*((Z**2)/(A**(1/3))) - 93.2*(((A-2*Z)**2) / A) - a5/(A**(1/2))\n    return B, B/A\n\n\nprint(\"The binding eneregy and is binding energy per nucleon is \" + str(se_mass(58,28)))\nprint(se_mass(59,28))\nprint(se_mass(58,27))",
      "metadata": {
        "trusted": true
      },
      "outputs": [
        {
          "name": "stdout",
          "output_type": "stream",
          "text": "The binding eneregy and is binding energy per nucleon is (490.78425241273493, 8.46179745539198)\n(498.144677545714, 8.443130127893458)\n(485.30934897614435, 8.367402568554214)\n"
        }
      ],
      "execution_count": 35
    },
    {
      "cell_type": "code",
      "source": "",
      "metadata": {},
      "outputs": [],
      "execution_count": null
    }
  ]
}