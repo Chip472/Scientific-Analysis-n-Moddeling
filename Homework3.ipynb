{
  "metadata": {
    "kernelspec": {
      "name": "python",
      "display_name": "Python (Pyodide)",
      "language": "python"
    },
    "language_info": {
      "codemirror_mode": {
        "name": "python",
        "version": 3
      },
      "file_extension": ".py",
      "mimetype": "text/x-python",
      "name": "python",
      "nbconvert_exporter": "python",
      "pygments_lexer": "ipython3",
      "version": "3.8"
    }
  },
  "nbformat_minor": 5,
  "nbformat": 4,
  "cells": [
    {
      "id": "a6ee62d9-386b-4b39-8342-4306ebbd4440",
      "cell_type": "code",
      "source": "a = 3**4\nb = 2**3 - 7.8\nc = complex(3, -1) ** 3\n\nprint(a, type(a))\nprint(b, type(b))\nprint(c, type(c))",
      "metadata": {
        "trusted": true
      },
      "outputs": [
        {
          "name": "stdout",
          "output_type": "stream",
          "text": "81 <class 'int'>\n0.20000000000000018 <class 'float'>\n(18-26j) <class 'complex'>\n"
        }
      ],
      "execution_count": 19
    },
    {
      "id": "fc61e5c3-dfab-4a02-ae9d-f3464ae98f3c",
      "cell_type": "code",
      "source": "s = \"CAGTACCAAGTGAAAGAT\"\nprint(\"# of A in s is: \" + str(s.count(\"A\")))",
      "metadata": {
        "trusted": true
      },
      "outputs": [
        {
          "name": "stdout",
          "output_type": "stream",
          "text": "# of A in s is: 8\n"
        }
      ],
      "execution_count": 13
    },
    {
      "id": "28ff06cf-052d-45ca-927f-15fcc0dc7463",
      "cell_type": "code",
      "source": "a = [1, 2, 3]\nb = [4, 5, 6]\nc = a + b\n\nprint(c)",
      "metadata": {
        "trusted": true
      },
      "outputs": [
        {
          "name": "stdout",
          "output_type": "stream",
          "text": "[1, 2, 3, 4, 5, 6]\n"
        }
      ],
      "execution_count": 10
    }
  ]
}