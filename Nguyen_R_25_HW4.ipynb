{
  "metadata": {
    "kernelspec": {
      "name": "python",
      "display_name": "Python (Pyodide)",
      "language": "python"
    },
    "language_info": {
      "codemirror_mode": {
        "name": "python",
        "version": 3
      },
      "file_extension": ".py",
      "mimetype": "text/x-python",
      "name": "python",
      "nbconvert_exporter": "python",
      "pygments_lexer": "ipython3",
      "version": "3.8"
    }
  },
  "nbformat_minor": 4,
  "nbformat": 4,
  "cells": [
    {
      "cell_type": "markdown",
      "source": "# Python Basics Continued",
      "metadata": {}
    },
    {
      "cell_type": "markdown",
      "source": "## Booleans",
      "metadata": {}
    },
    {
      "cell_type": "markdown",
      "source": "A ``boolean`` is one of the simplest Python types, and it can have two values: ``True`` and ``False`` (with uppercase ``T`` and ``F``):",
      "metadata": {}
    },
    {
      "cell_type": "code",
      "source": "a = True\nb = False",
      "metadata": {},
      "outputs": [],
      "execution_count": null
    },
    {
      "cell_type": "markdown",
      "source": "Booleans can be combined with logical operators to give other booleans:",
      "metadata": {}
    },
    {
      "cell_type": "code",
      "source": "True and False",
      "metadata": {},
      "outputs": [],
      "execution_count": null
    },
    {
      "cell_type": "code",
      "source": "True or False",
      "metadata": {},
      "outputs": [],
      "execution_count": null
    },
    {
      "cell_type": "code",
      "source": "(False and (True or False)) or (False and True)",
      "metadata": {},
      "outputs": [],
      "execution_count": null
    },
    {
      "cell_type": "markdown",
      "source": "Standard comparison operators can also produce booleans:",
      "metadata": {}
    },
    {
      "cell_type": "code",
      "source": "1 == 3",
      "metadata": {},
      "outputs": [],
      "execution_count": null
    },
    {
      "cell_type": "code",
      "source": "1 != 3",
      "metadata": {},
      "outputs": [],
      "execution_count": null
    },
    {
      "cell_type": "code",
      "source": "3 > 2",
      "metadata": {},
      "outputs": [],
      "execution_count": null
    },
    {
      "cell_type": "code",
      "source": "3 <= 3.4",
      "metadata": {},
      "outputs": [],
      "execution_count": null
    },
    {
      "cell_type": "markdown",
      "source": "## Exercise 1",
      "metadata": {}
    },
    {
      "cell_type": "markdown",
      "source": "Write an expression that returns ``True`` if ``x`` is strictly greater than 3.4 and smaller or equal to 6.6, or if it is 2, and try changing ``x`` to see if it works:",
      "metadata": {}
    },
    {
      "cell_type": "code",
      "source": "# your solution here\nx = 2.1\n((x > 3.4 and x <= 6.6) or (x == 2))",
      "metadata": {
        "trusted": true
      },
      "outputs": [
        {
          "execution_count": 4,
          "output_type": "execute_result",
          "data": {
            "text/plain": "False"
          },
          "metadata": {}
        }
      ],
      "execution_count": 4
    },
    {
      "cell_type": "markdown",
      "source": "## Tuples",
      "metadata": {}
    },
    {
      "cell_type": "markdown",
      "source": "Tuples are, like lists, a type of sequence, but they use round parentheses rather than square brackets:",
      "metadata": {}
    },
    {
      "cell_type": "code",
      "source": "t = (1, 2, 3)",
      "metadata": {},
      "outputs": [],
      "execution_count": null
    },
    {
      "cell_type": "markdown",
      "source": "They can contain heterogeneous types like lists:",
      "metadata": {}
    },
    {
      "cell_type": "code",
      "source": "t = (1, 2.3, 'spam')",
      "metadata": {},
      "outputs": [],
      "execution_count": null
    },
    {
      "cell_type": "markdown",
      "source": "and also support item access and slicing like lists:",
      "metadata": {}
    },
    {
      "cell_type": "code",
      "source": "t[1]",
      "metadata": {},
      "outputs": [],
      "execution_count": null
    },
    {
      "cell_type": "code",
      "source": "t[:2]",
      "metadata": {},
      "outputs": [],
      "execution_count": null
    },
    {
      "cell_type": "markdown",
      "source": "The main difference is that they are **immutable**, like strings:",
      "metadata": {}
    },
    {
      "cell_type": "code",
      "source": "t[1] = 2",
      "metadata": {},
      "outputs": [],
      "execution_count": null
    },
    {
      "cell_type": "markdown",
      "source": "We will not go into the details right now of why this is useful, but you should know that these exist as you may encounter them in examples.",
      "metadata": {}
    },
    {
      "cell_type": "markdown",
      "source": "## Dictionaries",
      "metadata": {}
    },
    {
      "cell_type": "markdown",
      "source": "One of the data types that we have not talked about yet is called *dictionaries* (``dict``). If you think about what a 'real' dictionary is, it is a list of words, and for each word is a definition. Similarly, in Python, we can assign definitions (or 'values'), to words (or 'keywords').\n\nDictionaries are defined using curly brackets ``{}``:\n\nDictionary = {'key': 'value'}.",
      "metadata": {}
    },
    {
      "cell_type": "code",
      "source": "d = {'a':1, 'b':2, 'c':3}",
      "metadata": {},
      "outputs": [],
      "execution_count": null
    },
    {
      "cell_type": "markdown",
      "source": "Items are accessed using square brackets and the 'key':",
      "metadata": {}
    },
    {
      "cell_type": "code",
      "source": "d['a']",
      "metadata": {},
      "outputs": [],
      "execution_count": null
    },
    {
      "cell_type": "code",
      "source": "d['c']",
      "metadata": {},
      "outputs": [],
      "execution_count": null
    },
    {
      "cell_type": "markdown",
      "source": "Values can also be set this way:",
      "metadata": {}
    },
    {
      "cell_type": "code",
      "source": "d['r'] = 2.2",
      "metadata": {},
      "outputs": [],
      "execution_count": null
    },
    {
      "cell_type": "code",
      "source": "print(d)",
      "metadata": {},
      "outputs": [],
      "execution_count": null
    },
    {
      "cell_type": "markdown",
      "source": "The keywords don't have to be strings, they can be many (but not all) Python objects (they must be immutable):",
      "metadata": {}
    },
    {
      "cell_type": "code",
      "source": "e = {}\ne['a_string'] = 3.3\ne[3445] = 2.2\ne[complex(2,1)] = 'value'",
      "metadata": {},
      "outputs": [],
      "execution_count": null
    },
    {
      "cell_type": "code",
      "source": "print(e)",
      "metadata": {},
      "outputs": [],
      "execution_count": null
    },
    {
      "cell_type": "code",
      "source": "e[3445]",
      "metadata": {},
      "outputs": [],
      "execution_count": null
    },
    {
      "cell_type": "markdown",
      "source": "If you try and access an element that does not exist, you will get a ``KeyError``:",
      "metadata": {}
    },
    {
      "cell_type": "code",
      "source": "e[4]",
      "metadata": {},
      "outputs": [],
      "execution_count": null
    },
    {
      "cell_type": "markdown",
      "source": "Also, note that dictionaries do *not* know about order, so there is no 'first' or 'last' element.\n\nIt is easy to check if a specific key is in a dictionary, using the ``in`` operator:",
      "metadata": {}
    },
    {
      "cell_type": "code",
      "source": "\"a\" in d",
      "metadata": {},
      "outputs": [],
      "execution_count": null
    },
    {
      "cell_type": "code",
      "source": "\"t\" in d",
      "metadata": {},
      "outputs": [],
      "execution_count": null
    },
    {
      "cell_type": "markdown",
      "source": "Note that this also works for lists:",
      "metadata": {}
    },
    {
      "cell_type": "code",
      "source": "3 in [1,2,3]",
      "metadata": {},
      "outputs": [],
      "execution_count": null
    },
    {
      "cell_type": "markdown",
      "source": "## Exercise 2",
      "metadata": {}
    },
    {
      "cell_type": "markdown",
      "source": "Try making a dictionary to translate a few English words into Spanish and try using it!",
      "metadata": {}
    },
    {
      "cell_type": "markdown",
      "source": "perro = dog; gato = cat; hola = hello; star = estrella; adios = goodbye; por favor = please; gracias = thank you; \nlo siento = sorry",
      "metadata": {}
    },
    {
      "cell_type": "code",
      "source": "# your solution here\nd = {'perro':'dog', 'gato':'cat', 'hola':'hello', 'estrella':'star', 'adios':'goodbye', \n     'por favor':'please', 'gracias':'thank you', 'lo siento':'sorry'}\n\nprint(\"perro in English is:\", d['perro'])\nprint(\"hola in English is:\", d['hola'])\nprint(\"gracias in English is:\", d['gracias'])",
      "metadata": {
        "trusted": true
      },
      "outputs": [
        {
          "name": "stdout",
          "output_type": "stream",
          "text": "perro in English is: dog\nhola in English is: hello\ngracias in English is: thank you\n"
        }
      ],
      "execution_count": 5
    },
    {
      "cell_type": "markdown",
      "source": "# CONTROL FLOW",
      "metadata": {}
    },
    {
      "cell_type": "markdown",
      "source": "We now know how to set variables of various types:",
      "metadata": {
        "slideshow": {
          "slide_type": "slide"
        }
      }
    },
    {
      "cell_type": "code",
      "source": "a = 1\nb = 3.14\nc = 'hello'\nd = [a, b, c]\n\nprint(d)",
      "metadata": {},
      "outputs": [],
      "execution_count": null
    },
    {
      "cell_type": "markdown",
      "source": "but this doesn't get us very far. One essential part of programming is **control flow** which is the ability to control how the program will proceed based on for example some conditions, or making parts of the program run multiple times.",
      "metadata": {}
    },
    {
      "cell_type": "markdown",
      "source": "## ``if`` statements",
      "metadata": {}
    },
    {
      "cell_type": "markdown",
      "source": "The simplest form of control flow is the ``if`` statement, which executes a block of code only if a certain condition is true (and optionally executes code if it is *not* true. The basic syntax for an if-statement is the following:\n\n    if condition:\n        # do something\n    elif condition:\n        # do something else\n    else:\n        # do yet something else\n\nNotice that there is no statement to end the if statement, and the\npresence of a colon (``:``) after each control flow statement. Python relies\non **indentation and colons** to determine whether it is in a specific block of\ncode.",
      "metadata": {
        "slideshow": {
          "slide_type": "slide"
        }
      }
    },
    {
      "cell_type": "markdown",
      "source": "For example, in the following code:",
      "metadata": {
        "slideshow": {
          "slide_type": "slide"
        }
      }
    },
    {
      "cell_type": "code",
      "source": "a = 1\n\nif a == 1:\n    print(\"a is 1, changing to 2\")\n    a = 2\n\nprint(\"finished\")",
      "metadata": {},
      "outputs": [],
      "execution_count": null
    },
    {
      "cell_type": "markdown",
      "source": "The first print statement, and the ``a = 2`` statement only get executed if\n``a`` is 1. On the other hand, ``print \"finished\"`` gets executed regardless,\nonce Python exits the if statement.",
      "metadata": {
        "slideshow": {
          "slide_type": "fragment"
        }
      }
    },
    {
      "cell_type": "markdown",
      "source": "**Indentation is very important in Python, and the convention is to use four spaces (not tabs) for each level of indent.**",
      "metadata": {
        "slideshow": {
          "slide_type": "slide"
        }
      }
    },
    {
      "cell_type": "markdown",
      "source": "Back to the if-statements, the conditions in the statements can be anything that returns a boolean value. For example, ``a == 1``, ``b != 4``, and ``c <= 5`` are valid conditions because they return either ``True`` or ``False`` depending on whether the statements are true or not.",
      "metadata": {
        "slideshow": {
          "slide_type": "slide"
        }
      }
    },
    {
      "cell_type": "markdown",
      "source": "Standard comparisons can be used (``==`` for equal, ``!=`` for not equal, ``<=`` for less or equal, ``>=`` for greater or equal, ``<`` for less than, and ``>`` for greater than), as well as logical operators (``and``, ``or``, ``not``). Parentheses can be used to isolate different parts of conditions, to make clear in what order the comparisons should be executed, for example:\n\n    if (a == 1 and b <= 3) or c > 3:\n        # do something\n\nMore generally, any function or expression that ultimately returns ``True`` or ``False`` can be used.",
      "metadata": {
        "slideshow": {
          "slide_type": "slide"
        }
      }
    },
    {
      "cell_type": "markdown",
      "source": "## Exercise 3",
      "metadata": {}
    },
    {
      "cell_type": "markdown",
      "source": "Write a program to check whether a given integer is even or odd. Make sure it works correctly for all integers. ",
      "metadata": {}
    },
    {
      "cell_type": "code",
      "source": "# your solution here\nx = -7\n\nif (x%2 == 0):\n    print(str(x) + \" is even.\")\nelse:\n    print(str(x) + \" is odd.\")",
      "metadata": {
        "trusted": true
      },
      "outputs": [
        {
          "name": "stdout",
          "output_type": "stream",
          "text": "-7 is odd.\n"
        }
      ],
      "execution_count": 6
    },
    {
      "cell_type": "markdown",
      "source": "## ``for`` loops",
      "metadata": {}
    },
    {
      "cell_type": "markdown",
      "source": "Another common structure that is important for controling the flow of execution are loops. Loops can be used to execute a block of code multiple times. The most common type of loop is the ``for`` loop. In its most basic form, it\nis straightforward:\n\n    for value in iterable:\n        # do things\n\nThe ``iterable`` can be any Python object that can be iterated over. This\nincludes lists or strings.",
      "metadata": {
        "slideshow": {
          "slide_type": "slide"
        }
      }
    },
    {
      "cell_type": "code",
      "source": "for x in [3, 1.2, 'a']:\n    print(x)",
      "metadata": {
        "slideshow": {
          "slide_type": "slide"
        }
      },
      "outputs": [],
      "execution_count": null
    },
    {
      "cell_type": "code",
      "source": "for letter in 'hello':\n    print(letter)",
      "metadata": {},
      "outputs": [],
      "execution_count": null
    },
    {
      "cell_type": "markdown",
      "source": "A common type of for loop is one where the value should go between two integers with a specific set size. To do this, we can use the ``range`` function. If given a single value, it will allow you to iterate from 0 to the value minus 1:",
      "metadata": {
        "slideshow": {
          "slide_type": "slide"
        }
      }
    },
    {
      "cell_type": "code",
      "source": "for i in range(5):\n    print(i)",
      "metadata": {},
      "outputs": [],
      "execution_count": null
    },
    {
      "cell_type": "code",
      "source": "for i in range(3, 12):\n    print(i)",
      "metadata": {},
      "outputs": [],
      "execution_count": null
    },
    {
      "cell_type": "code",
      "source": "for i in range(2, 20, 2):  # the third entry specifies the \"step size\"\n    print(i)",
      "metadata": {},
      "outputs": [],
      "execution_count": null
    },
    {
      "cell_type": "markdown",
      "source": "If you try iterating over a dictionary, it will iterate over the **keys** (not the values), in no specific order:",
      "metadata": {}
    },
    {
      "cell_type": "code",
      "source": "d = {'a':1, 'b':2, 'c':3}\nfor key in d:\n    print(key)",
      "metadata": {},
      "outputs": [],
      "execution_count": null
    },
    {
      "cell_type": "markdown",
      "source": "But you can easily get the value with:",
      "metadata": {}
    },
    {
      "cell_type": "code",
      "source": "for key in d:\n    print(key, d[key])",
      "metadata": {},
      "outputs": [],
      "execution_count": null
    },
    {
      "cell_type": "markdown",
      "source": "## Building programs",
      "metadata": {}
    },
    {
      "cell_type": "markdown",
      "source": "These different control flow structures can be combined to form programs. For example, the following program will print out a different message depending on whether the current number in the loop is less, equal to, or greater than 10:",
      "metadata": {
        "slideshow": {
          "slide_type": "slide"
        }
      }
    },
    {
      "cell_type": "code",
      "source": "for value in [2, 55, 4, 5, 12, 10, 8, 9, 22]:\n    if value > 10:\n        print(\"Value is greater than 10 (\" + str(value) + \")\")\n    elif value == 10:\n        print(\"Value is exactly 10\")\n    else:\n        print(\"Value is less than 10 (\" + str(value) + \")\")",
      "metadata": {},
      "outputs": [],
      "execution_count": null
    },
    {
      "cell_type": "markdown",
      "source": "## Exercise 4",
      "metadata": {}
    },
    {
      "cell_type": "markdown",
      "source": "Write a program that will print out all the prime numbers (numbers divisible only by one and themselves) below 1000.\n\nHint: the ``%`` operator can be used to find the remainder of the division of an integer by another:",
      "metadata": {}
    },
    {
      "cell_type": "code",
      "source": "20 % 3",
      "metadata": {},
      "outputs": [],
      "execution_count": null
    },
    {
      "cell_type": "code",
      "source": "# enter your solution here\nfor n in range(2, 1001):\n    isPrime = True\n    for i in range(2, int(n**0.5) + 1):\n        if n % i == 0:\n            isPrime = False\n    if isPrime:\n        print(n)",
      "metadata": {
        "trusted": true
      },
      "outputs": [
        {
          "name": "stdout",
          "output_type": "stream",
          "text": "2\n3\n5\n7\n11\n13\n17\n19\n23\n29\n31\n37\n41\n43\n47\n53\n59\n61\n67\n71\n73\n79\n83\n89\n97\n101\n103\n107\n109\n113\n127\n131\n137\n139\n149\n151\n157\n163\n167\n173\n179\n181\n191\n193\n197\n199\n211\n223\n227\n229\n233\n239\n241\n251\n257\n263\n269\n271\n277\n281\n283\n293\n307\n311\n313\n317\n331\n337\n347\n349\n353\n359\n367\n373\n379\n383\n389\n397\n401\n409\n419\n421\n431\n433\n439\n443\n449\n457\n461\n463\n467\n479\n487\n491\n499\n503\n509\n521\n523\n541\n547\n557\n563\n569\n571\n577\n587\n593\n599\n601\n607\n613\n617\n619\n631\n641\n643\n647\n653\n659\n661\n673\n677\n683\n691\n701\n709\n719\n727\n733\n739\n743\n751\n757\n761\n769\n773\n787\n797\n809\n811\n821\n823\n827\n829\n839\n853\n857\n859\n863\n877\n881\n883\n887\n907\n911\n919\n929\n937\n941\n947\n953\n967\n971\n977\n983\n991\n997\n"
        }
      ],
      "execution_count": 7
    },
    {
      "cell_type": "markdown",
      "source": "## Exiting or continuing a loop",
      "metadata": {}
    },
    {
      "cell_type": "markdown",
      "source": "There are two useful statements that can be called in a loop - ``break`` and ``continue``. When called, ``break`` will exit the loop it is currently in:",
      "metadata": {
        "slideshow": {
          "slide_type": "slide"
        }
      }
    },
    {
      "cell_type": "code",
      "source": "for i in range(10):\n    print(i)\n    if i == 3:\n        break",
      "metadata": {},
      "outputs": [],
      "execution_count": null
    },
    {
      "cell_type": "markdown",
      "source": "The other is ``continue``, which will ignore the rest of the loop and go straight to the next iteration:",
      "metadata": {
        "slideshow": {
          "slide_type": "slide"
        }
      }
    },
    {
      "cell_type": "code",
      "source": "for i in range(10):\n    if i == 2 or i == 8:\n        continue\n    print(i)",
      "metadata": {},
      "outputs": [],
      "execution_count": null
    },
    {
      "cell_type": "markdown",
      "source": "## Exercise 5",
      "metadata": {}
    },
    {
      "cell_type": "markdown",
      "source": "When checking if a value is prime, as soon as you have found that the value is divisble by a single value, the value is therefore not prime and there is no need to continue checking whether it is divisible by other values. Copy your solution from above and modify it to break out of the loop once this is the case.",
      "metadata": {}
    },
    {
      "cell_type": "code",
      "source": "\n# enter your solution here\nfor n in range(2, 1001):\n    isPrime = True\n    for i in range(2, int(n**0.5) + 1):\n        if n % i == 0:\n            isPrime = False\n            break\n    if isPrime:\n        print(n)",
      "metadata": {
        "trusted": true
      },
      "outputs": [
        {
          "name": "stdout",
          "output_type": "stream",
          "text": "2\n3\n5\n7\n11\n13\n17\n19\n23\n29\n31\n37\n41\n43\n47\n53\n59\n61\n67\n71\n73\n79\n83\n89\n97\n101\n103\n107\n109\n113\n127\n131\n137\n139\n149\n151\n157\n163\n167\n173\n179\n181\n191\n193\n197\n199\n211\n223\n227\n229\n233\n239\n241\n251\n257\n263\n269\n271\n277\n281\n283\n293\n307\n311\n313\n317\n331\n337\n347\n349\n353\n359\n367\n373\n379\n383\n389\n397\n401\n409\n419\n421\n431\n433\n439\n443\n449\n457\n461\n463\n467\n479\n487\n491\n499\n503\n509\n521\n523\n541\n547\n557\n563\n569\n571\n577\n587\n593\n599\n601\n607\n613\n617\n619\n631\n641\n643\n647\n653\n659\n661\n673\n677\n683\n691\n701\n709\n719\n727\n733\n739\n743\n751\n757\n761\n769\n773\n787\n797\n809\n811\n821\n823\n827\n829\n839\n853\n857\n859\n863\n877\n881\n883\n887\n907\n911\n919\n929\n937\n941\n947\n953\n967\n971\n977\n983\n991\n997\n"
        }
      ],
      "execution_count": 8
    },
    {
      "cell_type": "markdown",
      "source": "## ``while`` loops",
      "metadata": {}
    },
    {
      "cell_type": "markdown",
      "source": "Similarly to other programming languages, Python also provides a ``while`` loop which is similar to a ``for`` loop, but where the number of iterations is defined by a condition rather than an iterator:\n\n    while condition:\n        # do something",
      "metadata": {
        "slideshow": {
          "slide_type": "slide"
        }
      }
    },
    {
      "cell_type": "markdown",
      "source": "For example, in the following example:",
      "metadata": {
        "slideshow": {
          "slide_type": "slide"
        }
      }
    },
    {
      "cell_type": "code",
      "source": "a = 1\nwhile a < 10:\n    print(a)\n    a = a * 1.5\nprint(\"Once the while loop has completed, a has the value\", a)",
      "metadata": {},
      "outputs": [],
      "execution_count": null
    },
    {
      "cell_type": "markdown",
      "source": "the loop is executed until ``a`` is equal to or exceeds 10.",
      "metadata": {}
    },
    {
      "cell_type": "markdown",
      "source": "## Exercise 6",
      "metadata": {}
    },
    {
      "cell_type": "markdown",
      "source": "Write a program (using a ``while`` loop) that will find the Fibonacci sequence up to (and excluding) 100000. The two first numbers are 0 and 1, and every subsequent number is the sum of the two previous ones, so the sequence starts ``[0, 1, 1, 2, 3, 5, ...]``.\n\nOptional: Store the sequence inside a Python list, and only print out the whole list to the screen once all the numbers are available. Then, check whether any of the numbers in the sequence are a square (e.g. ``0*0``, ``1*1``, ``2*2``, ``3*3``, ``4*4``) and print out those that are.",
      "metadata": {}
    },
    {
      "cell_type": "code",
      "source": "fiboList = [0, 1] \na = 1\nwhile a <= 100000:\n    fiboList.append(a)\n    a = fiboList[-1] + fiboList[-2]\n\nprint(fiboList)\n\nfor i in fiboList:\n    j = int(i**0.5)\n    if (j*j == i):\n        print(i)",
      "metadata": {
        "trusted": true
      },
      "outputs": [
        {
          "name": "stdout",
          "output_type": "stream",
          "text": "[0, 1, 1, 2, 3, 5, 8, 13, 21, 34, 55, 89, 144, 233, 377, 610, 987, 1597, 2584, 4181, 6765, 10946, 17711, 28657, 46368, 75025]\n0\n1\n1\n144\n"
        }
      ],
      "execution_count": 26
    },
    {
      "cell_type": "markdown",
      "source": "# HOMEWORK #4",
      "metadata": {}
    },
    {
      "cell_type": "markdown",
      "source": "\n*All coding assignment will be turned in as .ipynb files.   They should be turned in with the following naming:*\n    \n    Lastname_Firstinitial_25_HW#.ipynb\n\n    Frinchaboy_P_25_HW4.ipynb\n\nTurn in ***THIS*** notebook, with all Exercises completed, renamed, and uploaded to your GitHub account using Git Desktop by **Friday, September 19th, 5pm**\n",
      "metadata": {}
    },
    {
      "cell_type": "markdown",
      "source": "### REMINDER all assignments must be YOUR work, you may work together by not COPY from others.",
      "metadata": {}
    }
  ]
}